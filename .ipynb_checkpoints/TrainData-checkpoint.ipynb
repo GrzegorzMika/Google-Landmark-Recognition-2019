{
 "cells": [
  {
   "cell_type": "code",
   "execution_count": null,
   "metadata": {},
   "outputs": [],
   "source": [
    "import os\n",
    "import pandas as pd\n",
    "import numpy as np\n",
    "from joblib import Parallel, delayed\n",
    "import shutil\n",
    "import time"
   ]
  },
  {
   "cell_type": "code",
   "execution_count": null,
   "metadata": {},
   "outputs": [],
   "source": [
    "location = '/home/grzegorz/Google-data'"
   ]
  },
  {
   "cell_type": "code",
   "execution_count": null,
   "metadata": {},
   "outputs": [],
   "source": [
    "files = os.listdir(os.path.join(location, 'images_res'))\n",
    "labels = pd.read_feather(os.path.join(location, 'labels.feather'))"
   ]
  },
  {
   "cell_type": "code",
   "execution_count": null,
   "metadata": {},
   "outputs": [],
   "source": [
    "landmark = labels.landmark_id.unique()"
   ]
  },
  {
   "cell_type": "code",
   "execution_count": null,
   "metadata": {},
   "outputs": [],
   "source": [
    "def MakeDir(landmark_id):\n",
    "    if(not os.path.exists(os.path.join(location, 'train', str(landmark_id)))):\n",
    "        os.makedirs(os.path.join(location, 'train', str(landmark_id)))"
   ]
  },
  {
   "cell_type": "code",
   "execution_count": null,
   "metadata": {},
   "outputs": [],
   "source": [
    "Parallel(n_jobs = os.cpu_count(), verbose = 10)(delayed(MakeDir)(ld_id) for ld_id in landmark)"
   ]
  },
  {
   "cell_type": "code",
   "execution_count": null,
   "metadata": {},
   "outputs": [],
   "source": [
    "def CategorizeImage(image):\n",
    "    f1, f2 = str.split(image, '-')\n",
    "    cat = str((labels[labels.id == f1].landmark_id.tolist())[0])\n",
    "    shutil.move(os.path.join(location, 'images_res', image), \n",
    "                os.path.join(location, 'train', cat, image))"
   ]
  },
  {
   "cell_type": "code",
   "execution_count": null,
   "metadata": {
    "scrolled": true
   },
   "outputs": [],
   "source": [
    "t0 = time.time()\n",
    "ind = 0\n",
    "for im in files:\n",
    "    if(ind % 100 == 0): print(ind)\n",
    "    ind += 1\n",
    "    CategorizeImage(im)\n",
    "\n",
    "print(time.time() - t0)"
   ]
  }
 ],
 "metadata": {
  "kernelspec": {
   "display_name": "Python 3",
   "language": "python",
   "name": "python3"
  },
  "language_info": {
   "codemirror_mode": {
    "name": "ipython",
    "version": 3
   },
   "file_extension": ".py",
   "mimetype": "text/x-python",
   "name": "python",
   "nbconvert_exporter": "python",
   "pygments_lexer": "ipython3",
   "version": "3.6.7"
  }
 },
 "nbformat": 4,
 "nbformat_minor": 2
}
