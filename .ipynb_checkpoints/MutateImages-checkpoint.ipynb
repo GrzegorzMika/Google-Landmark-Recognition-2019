{
 "cells": [
  {
   "cell_type": "code",
   "execution_count": null,
   "metadata": {},
   "outputs": [],
   "source": [
    "import os\n",
    "from PIL import Image\n",
    "from joblib import Parallel, delayed"
   ]
  },
  {
   "cell_type": "code",
   "execution_count": null,
   "metadata": {},
   "outputs": [],
   "source": [
    "files = os.listdir('/home/grzegorz/Google-data/images')\n",
    "resized = '/home/grzegorz/Google-data/images_res'\n",
    "\n",
    "if(not os.path.exists(resized)):\n",
    "    os.makedirs(resized)"
   ]
  },
  {
   "cell_type": "code",
   "execution_count": null,
   "metadata": {},
   "outputs": [],
   "source": [
    "box1 = (0, 0, 500, 500)\n",
    "box2 = (0, 100, 500, 600)\n",
    "box3 = (100, 0, 600, 500)\n",
    "box4 = (100, 100, 600, 600)\n",
    "box5 = (100, 100, 500, 500)"
   ]
  },
  {
   "cell_type": "code",
   "execution_count": null,
   "metadata": {},
   "outputs": [],
   "source": [
    "def MutateImage(f):\n",
    "    f1, f2 = str.split(f, '.')\n",
    "    im = Image.open('/home/grzegorz/Google-data/images/' + f)\n",
    "    im = im.resize((600, 600))\n",
    "    bw = im.convert('L')\n",
    "#     b1 = im.crop(box1).resize((600, 600))\n",
    "#     b2 = im.crop(box2).resize((600, 600))\n",
    "#     b3 = im.crop(box3).resize((600, 600))\n",
    "#     b4 = im.crop(box4).resize((600, 600))\n",
    "#     b5 = im.crop(box5).resize((600, 600))\n",
    "#     bw1 = bw.crop(box1).resize((600, 600))\n",
    "#     bw2 = bw.crop(box2).resize((600, 600))\n",
    "#     bw3 = bw.crop(box3).resize((600, 600))\n",
    "#     bw4 = bw.crop(box4).resize((600, 600))\n",
    "#     bw5 = bw.crop(box5).resize((600, 600))\n",
    "    im.save(resized + '/' + f1 + '-a.jpg')\n",
    "    bw.save(resized + '/' + f1 + '-b.jpg')\n",
    "#     bw1.save(resized + '/' + f1 + '-c.jpg')\n",
    "#     bw2.save(resized + '/' + f1 + '-d.jpg')\n",
    "#     bw3.save(resized + '/' + f1 + '-e.jpg')\n",
    "#     bw4.save(resized + '/' + f1 + '-f.jpg')\n",
    "#     bw5.save(resized + '/' + f1 + '-g.jpg')\n",
    "#     b1.save(resized + '/' + f1 + '-h.jpg')\n",
    "#     b2.save(resized + '/' + f1 + '-i.jpg')\n",
    "#     b3.save(resized + '/' + f1 + '-j.jpg')\n",
    "#     b4.save(resized + '/' + f1 + '-k.jpg')\n",
    "#     b5.save(resized + '/' + f1 + '-l.jpg') "
   ]
  },
  {
   "cell_type": "code",
   "execution_count": null,
   "metadata": {},
   "outputs": [],
   "source": [
    "Parallel(n_jobs = os.cpu_count(), verbose=10)(delayed(MutateImage)(f) for f in files)"
   ]
  },
  {
   "cell_type": "code",
   "execution_count": null,
   "metadata": {},
   "outputs": [],
   "source": [
    "print('Ready!')"
   ]
  }
 ],
 "metadata": {
  "kernelspec": {
   "display_name": "Python 3",
   "language": "python",
   "name": "python3"
  },
  "language_info": {
   "codemirror_mode": {
    "name": "ipython",
    "version": 3
   },
   "file_extension": ".py",
   "mimetype": "text/x-python",
   "name": "python",
   "nbconvert_exporter": "python",
   "pygments_lexer": "ipython3",
   "version": "3.6.7"
  }
 },
 "nbformat": 4,
 "nbformat_minor": 2
}
