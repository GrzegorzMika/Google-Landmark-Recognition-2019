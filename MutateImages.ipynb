{
 "cells": [
  {
   "cell_type": "code",
   "execution_count": 63,
   "metadata": {},
   "outputs": [],
   "source": [
    "import os\n",
    "import numpy as np\n",
    "import pandas as pd\n",
    "from PIL import Image\n",
    "from joblib import Parallel, delayed"
   ]
  },
  {
   "cell_type": "code",
   "execution_count": 72,
   "metadata": {},
   "outputs": [],
   "source": [
    "data = '/home/grzegorz/Google-data'\n",
    "orginal = data + '/images'\n",
    "files = os.listdir(orginal)\n",
    "resized = data + '/images_res'\n",
    "\n",
    "if(not os.path.exists(resized)):\n",
    "    os.makedirs(resized)"
   ]
  },
  {
   "cell_type": "code",
   "execution_count": null,
   "metadata": {},
   "outputs": [],
   "source": [
    "size = (299, 299)"
   ]
  },
  {
   "cell_type": "code",
   "execution_count": null,
   "metadata": {},
   "outputs": [],
   "source": [
    "def MutateImage(f):\n",
    "    f1, f2 = str.split(f, '.')\n",
    "    \n",
    "    angleCol = np.random.uniform(low = 0, high = 360)\n",
    "    angleBlack = np.random.uniform(low = 0, high = 360)\n",
    "    \n",
    "    im = Image.open('/home/grzegorz/Google-data/images/' + f)\n",
    "    \n",
    "    height, width = im.size\n",
    "    bottom = np.random.uniform(low = 0, high = 0.3 * height)\n",
    "    right = np.random.uniform(low = 0, high = 0.3 * width)\n",
    "    \n",
    "    im1 = im.rotate(angleCol).resize(size)\n",
    "    im2 = im.crop((0, 0, height - bottom, width - right)).resize(size)\n",
    "    im3 = im.crop((0, right, height - bottom, width)).resize(size)\n",
    "    im4 = im.crop((bottom, 0, height, width - right)).resize(size)\n",
    "    im5 = im.crop((bottom, right, height, width)).resize(size)\n",
    "    \n",
    "    bottom = np.random.uniform(low = 0, high = 0.3 * height)\n",
    "    right = np.random.uniform(low = 0, high = 0.3 * width)\n",
    "    \n",
    "    bw = im.convert('L')\n",
    "    bw1 = bw.rotate(angleBlack).resize(size)\n",
    "    bw2 = bw.crop((0, 0, height - bottom, width - right)).resize(size)\n",
    "    bw3 = bw.crop((0, right, height - bottom, width)).resize(size)\n",
    "    bw4 = bw.crop((bottom, 0, height, width - right)).resize(size)\n",
    "    bw5 = bw.crop((bottom, right, height, width)).resize(size)\n",
    "    \n",
    "    im = im.resize(size)\n",
    "    \n",
    "    im.save(resized + '/' + f1 + '-a.jpg')\n",
    "    im1.save(resized + '/' + f1 + '-b.jpg')\n",
    "    im2.save(resized + '/' + f1 + '-c.jpg')\n",
    "    im3.save(resized + '/' + f1 + '-d.jpg')\n",
    "    im4.save(resized + '/' + f1 + '-e.jpg')\n",
    "    im5.save(resized + '/' + f1 + '-f.jpg')\n",
    "    bw.save(resized + '/' + f1 + '-g.jpg')\n",
    "    bw1.save(resized + '/' + f1 + '-h.jpg')\n",
    "    bw2.save(resized + '/' + f1 + '-i.jpg')\n",
    "    bw3.save(resized + '/' + f1 + '-j.jpg')\n",
    "    bw4.save(resized + '/' + f1 + '-k.jpg')\n",
    "    bw5.save(resized + '/' + f1 + '-l.jpg')"
   ]
  },
  {
   "cell_type": "code",
   "execution_count": null,
   "metadata": {},
   "outputs": [],
   "source": [
    "Parallel(n_jobs = os.cpu_count(), verbose=10)(delayed(MutateImage)(f) for f in files)\n",
    "#shutil.rmtree(orginal)"
   ]
  },
  {
   "cell_type": "code",
   "execution_count": 75,
   "metadata": {},
   "outputs": [
    {
     "name": "stdout",
     "output_type": "stream",
     "text": [
      "CPU times: user 18.1 ms, sys: 8.36 ms, total: 26.4 ms\n",
      "Wall time: 120 ms\n"
     ]
    }
   ],
   "source": [
    "Images = pd.DataFrame(os.listdir(resized))\n",
    "Images.columns = ['Name']\n",
    "%time Images.to_feather(os.path.join(data, 'Images.feather'))"
   ]
  },
  {
   "cell_type": "code",
   "execution_count": 77,
   "metadata": {},
   "outputs": [
    {
     "name": "stdout",
     "output_type": "stream",
     "text": [
      "Ready!\n"
     ]
    }
   ],
   "source": [
    "print('Ready!')"
   ]
  }
 ],
 "metadata": {
  "kernelspec": {
   "display_name": "Python 3",
   "language": "python",
   "name": "python3"
  },
  "language_info": {
   "codemirror_mode": {
    "name": "ipython",
    "version": 3
   },
   "file_extension": ".py",
   "mimetype": "text/x-python",
   "name": "python",
   "nbconvert_exporter": "python",
   "pygments_lexer": "ipython3",
   "version": "3.6.7"
  }
 },
 "nbformat": 4,
 "nbformat_minor": 2
}
