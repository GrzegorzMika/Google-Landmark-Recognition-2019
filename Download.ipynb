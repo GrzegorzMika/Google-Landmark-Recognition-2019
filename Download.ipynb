{
 "cells": [
  {
   "cell_type": "code",
   "execution_count": null,
   "metadata": {},
   "outputs": [],
   "source": [
    "import os\n",
    "import pandas as pd\n",
    "import numpy as np\n",
    "import urllib\n",
    "import tarfile\n",
    "import shutil"
   ]
  },
  {
   "cell_type": "code",
   "execution_count": null,
   "metadata": {},
   "outputs": [],
   "source": [
    "data = '/home/grzegorz/Google-data'"
   ]
  },
  {
   "cell_type": "code",
   "execution_count": null,
   "metadata": {},
   "outputs": [],
   "source": [
    "no = []\n",
    "for i in range(500):\n",
    "    if i <= 9:\n",
    "        no.append('00' + str(i))\n",
    "    elif i <= 99:\n",
    "        no.append('0' + str(i))\n",
    "    else:\n",
    "        no.append(str(i))"
   ]
  },
  {
   "cell_type": "code",
   "execution_count": null,
   "metadata": {},
   "outputs": [],
   "source": [
    "location = 'https://s3.amazonaws.com/google-landmark/train'\n",
    "urls = [location + '/images_' + no[i] + '.tar' for i in range(500)]"
   ]
  },
  {
   "cell_type": "code",
   "execution_count": null,
   "metadata": {},
   "outputs": [],
   "source": [
    "def download(directory, url, file):\n",
    "    filepath = os.path.join(directory, file)\n",
    "    if(os.path.exists(filepath)):\n",
    "        print('Already exists')\n",
    "        return 0\n",
    "    #os.makedirs(filepath)\n",
    "    urllib.request.urlretrieve(url, filepath)\n",
    "    return 0\n",
    "    "
   ]
  },
  {
   "cell_type": "code",
   "execution_count": null,
   "metadata": {},
   "outputs": [],
   "source": [
    "for file in urls:\n",
    "    amazon_location = file\n",
    "    file_name = amazon_location[-14:]\n",
    "    print(amazon_location)\n",
    "    print(file_name)\n",
    "    download(data, amazon_location, file_name)"
   ]
  },
  {
   "cell_type": "code",
   "execution_count": null,
   "metadata": {},
   "outputs": [],
   "source": [
    "files = [data + '/images_' + no[i] + '.tar' for i in range(500)]\n",
    "temp_loc = [data + '/images_' + no[i] for i in range(500)]\n",
    "target = data + '/images'"
   ]
  },
  {
   "cell_type": "code",
   "execution_count": null,
   "metadata": {},
   "outputs": [],
   "source": [
    "for t in range(1):\n",
    "    print('Cleaning ' + no[t] + '...')\n",
    "    if(not os.path.exists(temp_loc[t])):\n",
    "        os.makedirs(temp_loc[t])\n",
    "        print('Directory created')\n",
    "    tar = tarfile.open(files[t])\n",
    "    tar.extractall(path = temp_loc[t])\n",
    "    first = os.listdir(temp_loc[t])\n",
    "    first_lvl = [temp_loc[t] + '/' + loc for loc in first]\n",
    "    second_lvl = []\n",
    "    third_lvl = []\n",
    "    for lvl in first_lvl:\n",
    "        second = os.listdir(lvl)\n",
    "        for loc in second:\n",
    "            second_lvl.append(lvl + '/' + loc)       \n",
    "    for lvl in second_lvl:\n",
    "        third = os.listdir(lvl)\n",
    "        for loc in third:\n",
    "            third_lvl.append(lvl + '/' + loc)\n",
    "    for src in third_lvl:\n",
    "        for f in os.listdir(src):\n",
    "            shutil.move(src + '/' + f, target + '/' + f)\n",
    "    shutil.rmtree(temp_loc[t])\n",
    "    os.remove(files[t])\n",
    "    print(no[t] + ' ready!')"
   ]
  }
 ],
 "metadata": {
  "kernelspec": {
   "display_name": "Python 3",
   "language": "python",
   "name": "python3"
  },
  "language_info": {
   "codemirror_mode": {
    "name": "ipython",
    "version": 3
   },
   "file_extension": ".py",
   "mimetype": "text/x-python",
   "name": "python",
   "nbconvert_exporter": "python",
   "pygments_lexer": "ipython3",
   "version": "3.6.7"
  }
 },
 "nbformat": 4,
 "nbformat_minor": 2
}
